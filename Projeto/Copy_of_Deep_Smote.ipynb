{
  "nbformat": 4,
  "nbformat_minor": 0,
  "metadata": {
    "colab": {
      "name": "Copy of Deep_Smote.ipynb",
      "provenance": [],
      "collapsed_sections": [],
      "machine_shape": "hm"
    },
    "kernelspec": {
      "name": "python3",
      "display_name": "Python 3"
    },
    "language_info": {
      "name": "python"
    },
    "accelerator": "GPU"
  },
  "cells": [
    {
      "cell_type": "markdown",
      "source": [
        "## Inicializações, mkdir"
      ],
      "metadata": {
        "id": "plbr3BQD988Y"
      }
    },
    {
      "cell_type": "code",
      "execution_count": 1,
      "metadata": {
        "id": "4FAU1Rv3WjS9"
      },
      "outputs": [],
      "source": [
        "#!pip install torch==1.2.0+cu92 torchvision==0.4.0+cu92 -f https://download.pytorch.org/whl/torch_stable.html"
      ]
    },
    {
      "cell_type": "code",
      "source": [
        "\n",
        "\n",
        "!mkdir -p MNIST/trn_img/\n",
        "!mkdir -p MNIST/trn_lab/\n",
        "!mkdir -p MNIST/models/crs5/0/\n",
        "!mkdir -p MNIST/models/crs5/1/\n",
        "!mkdir -p MNIST/models/crs5/2/\n",
        "!mkdir -p MNIST/models/crs5/3/\n",
        "!mkdir -p MNIST/models/crs5/4/\n",
        "!mkdir -p MNIST/trn_img_f/\n",
        "!mkdir -p MNIST/trn_lab_f/\n",
        "\n",
        "!mkdir FashionMNIST/trn_img/\n",
        "!mkdir FashionMNIST/trn_lab/\n",
        "!mkdir -p FashionMNIST/models/crs5/0/\n",
        "!mkdir -p FashionMNIST/models/crs5/1/\n",
        "!mkdir -p FashionMNIST/models/crs5/2/\n",
        "!mkdir -p FashionMNIST/models/crs5/3/\n",
        "!mkdir -p FashionMNIST/models/crs5/4/\n",
        "!mkdir -p FashionMNIST/trn_img_f/\n",
        "!mkdir -p FashionMNIST/trn_lab_f/\n",
        "\n",
        "!mkdir CIFAR10/trn_img/\n",
        "!mkdir CIFAR10/trn_lab/\n",
        "!mkdir -p CIFAR10/models/crs5/0/\n",
        "!mkdir -p CIFAR10/models/crs5/1/\n",
        "!mkdir -p CIFAR10/models/crs5/2/\n",
        "!mkdir -p CIFAR10/models/crs5/3/\n",
        "!mkdir -p CIFAR10/models/crs5/4/\n",
        "!mkdir -p CIFAR10/trn_img_f/\n",
        "!mkdir -p CIFAR10/trn_lab_f/\n",
        "\n",
        "!mkdir SVHN/trn_img/\n",
        "!mkdir SVHN/trn_lab/\n",
        "!mkdir -p SVHN/models/crs5/0//models/crs5/0/\n",
        "!mkdir -p SVHN/models/crs5/1//models/crs5/1/\n",
        "!mkdir -p SVHN/models/crs5/2//models/crs5/2/\n",
        "!mkdir -p SVHN/models/crs5/3//models/crs5/3/\n",
        "!mkdir -p SVHN/models/crs5/4//models/crs5/4/\n",
        "!mkdir -p SVHN/trn_img_f/\n",
        "!mkdir -p SVHN/trn_lab_f/\n",
        "\n",
        "\n",
        "!mkdir CelebA/trn_img/\n",
        "!mkdir CelebA/trn_lab/\n",
        "!mkdir -p CelebA/models/crs5/0//models/crs5/0/\n",
        "!mkdir -p CelebA/models/crs5/1//models/crs5/1/\n",
        "!mkdir -p CelebA/models/crs5/2//models/crs5/2/\n",
        "!mkdir -p CelebA/models/crs5/3//models/crs5/3/\n",
        "!mkdir -p CelebA/models/crs5/4//models/crs5/4/\n",
        "!mkdir -p CelebA/trn_img_f/\n",
        "!mkdir -p CelebA/trn_lab_f/\n"
      ],
      "metadata": {
        "id": "G_eVvGkUVcPF"
      },
      "execution_count": 10,
      "outputs": []
    },
    {
      "cell_type": "code",
      "source": [
        "import collections\n",
        "import torch\n",
        "import torch.nn as nn\n",
        "from torch.utils.data import TensorDataset\n",
        "import numpy as np\n",
        "from sklearn.neighbors import NearestNeighbors\n",
        "import time\n",
        "import os\n",
        "from torchvision import datasets #Import MNIST from torchvision\n",
        "import torchvision.transforms as transforms\n",
        "print(torch.version.cuda) #10.1\n",
        "t3 = time.time()"
      ],
      "metadata": {
        "colab": {
          "base_uri": "https://localhost:8080/"
        },
        "id": "IPZ--wCV4y_X",
        "outputId": "4f6522dd-3c97-4ea4-f10e-04e50e7582e2"
      },
      "execution_count": 3,
      "outputs": [
        {
          "output_type": "stream",
          "name": "stdout",
          "text": [
            "11.3\n"
          ]
        }
      ]
    },
    {
      "cell_type": "markdown",
      "source": [
        "## Argumentos"
      ],
      "metadata": {
        "id": "W9WH7FJWkX05"
      }
    },
    {
      "cell_type": "code",
      "source": [
        "##############################################################################\n",
        "\"\"\"args for AE\"\"\"\n",
        "\n",
        "#MNIST e FMNIST n_channel = 1 e n_z = 300\n",
        "#Cifar10 e SVHN n_channel = 3 e n_z = 600\n",
        "\n",
        "args = {}\n",
        "args['dim_h'] = 64         # factor controlling size of hidden layers\n",
        "args['n_channel'] = 1 #1  ou 3    # number of channels in the input data \n",
        "\n",
        "args['n_z'] = 300 #300 ou 600     # number of dimensions in latent space. \n",
        "\n",
        "args['sigma'] = 1.0        # variance in n_z\n",
        "args['lambda'] = 0.01      # hyper param for weight of discriminator loss\n",
        "args['lr'] = 0.0002        # learning rate for Adam optimizer .000\n",
        "args['epochs'] = 10       # how many epochs to run for\n",
        "args['batch_size'] = 100   # batch size for SGD\n",
        "args['save'] = True        # save weights at each epoch of training if True\n",
        "args['train'] = True       # train networks if True, else load networks from\n",
        "\n",
        "args['dataset'] = 'mnist' # 'mnist' ou 'fashionmnist' ou 'cifar10' ou 'svhn'  # specify which dataset to use\n",
        "\n"
      ],
      "metadata": {
        "id": "w3fvtoUo48SS"
      },
      "execution_count": 11,
      "outputs": []
    },
    {
      "cell_type": "markdown",
      "source": [
        "## Importando os datasets "
      ],
      "metadata": {
        "id": "epukq3tXNmzH"
      }
    },
    {
      "cell_type": "code",
      "source": [
        "###############################################################################\n",
        "\n",
        "\n",
        "#NOTE: Download the training ('.../0_trn_img.txt') and label files \n",
        "# ('.../0_trn_lab.txt').  Place the files in directories (e.g., ../MNIST/trn_img/\n",
        "# and /MNIST/trn_lab/).  Originally, when the code was written, it was for 5 fold\n",
        "#cross validation and hence there were 5 files in each of the \n",
        "#directories.  Here, for illustration, we use only 1 training and 1 label\n",
        "#file (e.g., '.../0_trn_img.txt' and '.../0_trn_lab.txt').\n",
        "\n",
        "## transformation\n",
        "\n",
        "\n",
        "\n",
        "\n",
        "\n",
        "if( args['dataset']== 'mnist'):\n",
        "  transform = transforms.Compose([transforms.ToTensor(), transforms.Resize(size=(28,28))])\n",
        "  dataset_torch = datasets.MNIST(root='./', train=True, download=True, transform=transform)\n",
        "  dir_model = 'MNIST'\n",
        "  print(\"Mnist\")\n",
        "elif( args['dataset']== 'fashionmnist'):\n",
        "  transform = transforms.Compose([transforms.ToTensor(), transforms.Resize(size=(28,28))])\n",
        "  dataset_torch = datasets.FashionMNIST(root='./', train=True, download=True, transform=transform)\n",
        "  dir_model = 'FashionMNIST'\n",
        "  print(\"FashionMNIST\")\n",
        "elif( args['dataset']== 'cifar10'):\n",
        "  transform = transforms.Compose( [transforms.ToTensor(), transforms.Resize(size=(32,32))])\n",
        "  dataset_torch = datasets.CIFAR10(root='./', train=True, download=True, transform=transform)\n",
        "  dir_model = 'CIFAR10'\n",
        "  print(\"CIFAR10\")\n",
        "elif( args['dataset']== 'svhn'):\n",
        "  transform = transforms.Compose( [transforms.ToTensor(), transforms.Resize(size=(32,32))])\n",
        "  dataset_torch = datasets.SVHN(root='./', train=True, download=True, transform=transform)\n",
        "  dir_model = 'SVHN'\n",
        "  print(\"SVHN\")\n",
        "\n",
        "\n",
        "'''\n",
        "\n",
        "!mv MNIST/raw/train-images-idx3-ubyte MNIST/trn_img/0_trn_img.txt\n",
        "!mv MNIST/raw/train-labels-idx1-ubyte MNIST/trn_lab/0_trn_lab.txt\n",
        "dtrnimg = 'MNIST/trn_img/'\n",
        "dtrnlab = 'MNIST/trn_lab/'\n",
        "\n",
        "## download and load training dataset\n",
        "#trainloader = torch.utils.data.DataLoader(trainset, batch_size=BATCH_SIZE,\n",
        "#                                          shuffle=True, num_workers=2)\n",
        "'''"
      ],
      "metadata": {
        "colab": {
          "base_uri": "https://localhost:8080/",
          "height": 87
        },
        "id": "-dQSVlGI5NxM",
        "outputId": "a8006876-74c0-41ed-80d7-4ca072399b09"
      },
      "execution_count": 12,
      "outputs": [
        {
          "output_type": "stream",
          "name": "stdout",
          "text": [
            "Mnist\n"
          ]
        },
        {
          "output_type": "execute_result",
          "data": {
            "text/plain": [
              "\"\\n\\n!mv MNIST/raw/train-images-idx3-ubyte MNIST/trn_img/0_trn_img.txt\\n!mv MNIST/raw/train-labels-idx1-ubyte MNIST/trn_lab/0_trn_lab.txt\\ndtrnimg = 'MNIST/trn_img/'\\ndtrnlab = 'MNIST/trn_lab/'\\n\\n## download and load training dataset\\n#trainloader = torch.utils.data.DataLoader(trainset, batch_size=BATCH_SIZE,\\n#                                          shuffle=True, num_workers=2)\\n\""
            ],
            "application/vnd.google.colaboratory.intrinsic+json": {
              "type": "string"
            }
          },
          "metadata": {},
          "execution_count": 12
        }
      ]
    },
    {
      "cell_type": "code",
      "source": [
        "dataset_torch"
      ],
      "metadata": {
        "colab": {
          "base_uri": "https://localhost:8080/"
        },
        "id": "IELUThNSFJuG",
        "outputId": "77352200-8328-4aee-d7c4-a68289f20343"
      },
      "execution_count": 13,
      "outputs": [
        {
          "output_type": "execute_result",
          "data": {
            "text/plain": [
              "Dataset MNIST\n",
              "    Number of datapoints: 60000\n",
              "    Root location: ./\n",
              "    Split: Train\n",
              "    StandardTransform\n",
              "Transform: Compose(\n",
              "               ToTensor()\n",
              "               Resize(size=(28, 28), interpolation=bilinear, max_size=None, antialias=None)\n",
              "           )"
            ]
          },
          "metadata": {},
          "execution_count": 13
        }
      ]
    },
    {
      "cell_type": "markdown",
      "source": [
        "## Classes Encoder e Decoder "
      ],
      "metadata": {
        "id": "j8ciHDDY4-LZ"
      }
    },
    {
      "cell_type": "code",
      "execution_count": 14,
      "metadata": {
        "id": "tx4_Xe2nOzJ_"
      },
      "outputs": [],
      "source": [
        "##############################################################################\n",
        "\n",
        "\n",
        "## create encoder model and decoder model\n",
        "class Encoder(nn.Module):\n",
        "    def __init__(self, args):\n",
        "        super(Encoder, self).__init__()\n",
        "\n",
        "        self.n_channel = args['n_channel']\n",
        "        self.dim_h = args['dim_h']\n",
        "        self.n_z = args['n_z']\n",
        "        \n",
        "        # convolutional filters, work excellent with image data\n",
        "        self.conv = nn.Sequential(\n",
        "            nn.Conv2d(self.n_channel, self.dim_h, 4, 2, 1, bias=False),\n",
        "            #nn.ReLU(True),\n",
        "            nn.LeakyReLU(0.2, inplace=True),\n",
        "            nn.Conv2d(self.dim_h, self.dim_h * 2, 4, 2, 1, bias=False),\n",
        "            nn.BatchNorm2d(self.dim_h * 2),\n",
        "            #nn.ReLU(True),\n",
        "            nn.LeakyReLU(0.2, inplace=True),\n",
        "            nn.Conv2d(self.dim_h * 2, self.dim_h * 4, 4, 2, 1, bias=False),\n",
        "            nn.BatchNorm2d(self.dim_h * 4),\n",
        "            #nn.ReLU(True),\n",
        "            nn.LeakyReLU(0.2, inplace=True),\n",
        "            \n",
        "            \n",
        "            nn.Conv2d(self.dim_h * 4, self.dim_h * 8, 4, 2, 1, bias=False),\n",
        "            \n",
        "            #3d and 32 by 32\n",
        "            #nn.Conv2d(self.dim_h * 4, self.dim_h * 8, 4, 1, 0, bias=False),\n",
        "            \n",
        "            nn.BatchNorm2d(self.dim_h * 8), # 40 X 8 = 320\n",
        "            #nn.ReLU(True),\n",
        "            nn.LeakyReLU(0.2, inplace=True) )#,\n",
        "            #nn.Conv2d(self.dim_h * 8, 1, 2, 1, 0, bias=False))\n",
        "            #nn.Conv2d(self.dim_h * 8, 1, 4, 1, 0, bias=False))\n",
        "        # final layer is fully connected\n",
        "        self.fc = nn.Linear(self.dim_h * (2 ** 3), self.n_z)\n",
        "        \n",
        "\n",
        "    def forward(self, x):\n",
        "        #print('enc')\n",
        "        #print('input ',x.size()) #torch.Size([100, 3,32,32])\n",
        "        x = self.conv(x)\n",
        "        \n",
        "        x = x.squeeze()\n",
        "        #print('aft squeeze ',x.size()) #torch.Size([128, 320])\n",
        "        #aft squeeze  torch.Size([100, 320])\n",
        "        x = self.fc(x)\n",
        "        #print('out ',x.size()) #torch.Size([128, 20])\n",
        "        #out  torch.Size([100, 300])\n",
        "        return x\n",
        "\n",
        "\n",
        "class Decoder(nn.Module):\n",
        "    def __init__(self, args):\n",
        "        super(Decoder, self).__init__()\n",
        "\n",
        "        self.n_channel = args['n_channel']\n",
        "        self.dim_h = args['dim_h']\n",
        "        self.n_z = args['n_z']\n",
        "\n",
        "        # first layer is fully connected\n",
        "        self.fc = nn.Sequential(\n",
        "            nn.Linear(self.n_z, self.dim_h * 8 * 7 * 7),\n",
        "            nn.ReLU())\n",
        "\n",
        "        # deconvolutional filters, essentially inverse of convolutional filters\n",
        "        self.deconv = nn.Sequential(\n",
        "            nn.ConvTranspose2d(self.dim_h * 8, self.dim_h * 4, 4),\n",
        "            nn.BatchNorm2d(self.dim_h * 4),\n",
        "            nn.ReLU(True),\n",
        "            nn.ConvTranspose2d(self.dim_h * 4, self.dim_h * 2, 4),\n",
        "            nn.BatchNorm2d(self.dim_h * 2),\n",
        "            nn.ReLU(True),\n",
        "            nn.ConvTranspose2d(self.dim_h * 2, 1, 4, stride=2),\n",
        "            #nn.Sigmoid())\n",
        "            nn.Tanh())\n",
        "\n",
        "    def forward(self, x):\n",
        "        #print('dec')\n",
        "        #print('input ',x.size())\n",
        "        x = self.fc(x)\n",
        "        x = x.view(-1, self.dim_h * 8, 7, 7)\n",
        "        x = self.deconv(x)\n",
        "        return x\n",
        "\n",
        "##############################################################################\n",
        "\"\"\"set models, loss functions\"\"\"\n",
        "# control which parameters are frozen / free for optimization\n",
        "def free_params(module: nn.Module):\n",
        "    for p in module.parameters():\n",
        "        p.requires_grad = True\n",
        "\n",
        "def frozen_params(module: nn.Module):\n",
        "    for p in module.parameters():\n",
        "        p.requires_grad = False\n",
        "\n",
        "\n",
        "\n",
        "\n",
        "\n",
        "\n",
        "\n"
      ]
    },
    {
      "cell_type": "markdown",
      "source": [
        "## SMOTE (Do código de treinamento, não do generate samples) \n"
      ],
      "metadata": {
        "id": "frCahvBy5Rv3"
      }
    },
    {
      "cell_type": "code",
      "source": [
        "'''\n",
        "##############################################################################\n",
        "\"\"\"functions to create SMOTE images\"\"\"\n",
        "\n",
        "def biased_get_class(c):\n",
        "    \n",
        "    xbeg = dec_x[dec_y == c]\n",
        "    ybeg = dec_y[dec_y == c]\n",
        "    \n",
        "    return xbeg, ybeg\n",
        "    #return xclass, yclass\n",
        "\n",
        "\n",
        "def G_SM(X, y,n_to_sample,cl):\n",
        "\n",
        "    # determining the number of samples to generate\n",
        "    #n_to_sample = 10 \n",
        "\n",
        "    # fitting the model\n",
        "    n_neigh = 5 + 1\n",
        "    nn = NearestNeighbors(n_neighbors=n_neigh, n_jobs=1)\n",
        "    nn.fit(X)\n",
        "    dist, ind = nn.kneighbors(X)\n",
        "\n",
        "    # generating samples\n",
        "    base_indices = np.random.choice(list(range(len(X))),n_to_sample)\n",
        "    neighbor_indices = np.random.choice(list(range(1, n_neigh)),n_to_sample)\n",
        "\n",
        "    X_base = X[base_indices]\n",
        "    X_neighbor = X[ind[base_indices, neighbor_indices]]\n",
        "\n",
        "    samples = X_base + np.multiply(np.random.rand(n_to_sample,1),\n",
        "            X_neighbor - X_base)\n",
        "\n",
        "    #use 10 as label because 0 to 9 real classes and 1 fake/smoted = 10\n",
        "    return samples, [cl]*n_to_sample\n",
        "\n",
        "#xsamp, ysamp = SM(xclass,yclass)\n",
        "'''"
      ],
      "metadata": {
        "id": "BFaOP0oD5RIO",
        "colab": {
          "base_uri": "https://localhost:8080/",
          "height": 122
        },
        "outputId": "a95b26e0-431e-4f8a-f40e-33bb57355757"
      },
      "execution_count": 8,
      "outputs": [
        {
          "output_type": "execute_result",
          "data": {
            "text/plain": [
              "'\\n##############################################################################\\n\"\"\"functions to create SMOTE images\"\"\"\\n\\ndef biased_get_class(c):\\n    \\n    xbeg = dec_x[dec_y == c]\\n    ybeg = dec_y[dec_y == c]\\n    \\n    return xbeg, ybeg\\n    #return xclass, yclass\\n\\n\\ndef G_SM(X, y,n_to_sample,cl):\\n\\n    # determining the number of samples to generate\\n    #n_to_sample = 10 \\n\\n    # fitting the model\\n    n_neigh = 5 + 1\\n    nn = NearestNeighbors(n_neighbors=n_neigh, n_jobs=1)\\n    nn.fit(X)\\n    dist, ind = nn.kneighbors(X)\\n\\n    # generating samples\\n    base_indices = np.random.choice(list(range(len(X))),n_to_sample)\\n    neighbor_indices = np.random.choice(list(range(1, n_neigh)),n_to_sample)\\n\\n    X_base = X[base_indices]\\n    X_neighbor = X[ind[base_indices, neighbor_indices]]\\n\\n    samples = X_base + np.multiply(np.random.rand(n_to_sample,1),\\n            X_neighbor - X_base)\\n\\n    #use 10 as label because 0 to 9 real classes and 1 fake/smoted = 10\\n    return samples, [cl]*n_to_sample\\n\\n#xsamp, ysamp = SM(xclass,yclass)\\n'"
            ],
            "application/vnd.google.colaboratory.intrinsic+json": {
              "type": "string"
            }
          },
          "metadata": {},
          "execution_count": 8
        }
      ]
    },
    {
      "cell_type": "markdown",
      "source": [
        "## Treinamento do Encoder/Decoder - Main"
      ],
      "metadata": {
        "id": "clBS35Az5a-F"
      }
    },
    {
      "cell_type": "code",
      "source": [
        "#%%time\n",
        "'''\n",
        "ids = os.listdir(dtrnimg)\n",
        "idtri_f = [os.path.join(dtrnimg, image_id) for image_id in ids]\n",
        "print(idtri_f)\n",
        "\n",
        "ids = os.listdir(dtrnlab)\n",
        "idtrl_f = [os.path.join(dtrnlab, image_id) for image_id in ids]\n",
        "print(idtrl_f)\n",
        "'''\n",
        "\n",
        "for i in range(1):\n",
        "#for i in range(len(ids)):\n",
        "    print()\n",
        "    print(i)\n",
        "    encoder = Encoder(args)\n",
        "    decoder = Decoder(args)\n",
        "\n",
        "    device = 'cuda' if torch.cuda.is_available() else 'cpu'\n",
        "    print(device)\n",
        "    decoder = decoder.to(device)\n",
        "    encoder = encoder.to(device)\n",
        "\n",
        "    train_on_gpu = torch.cuda.is_available()\n",
        "\n",
        "    #decoder loss function\n",
        "    criterion = nn.MSELoss()\n",
        "    criterion = criterion.to(device)\n",
        "    \n",
        "#    trnimgfile = idtri_f[i]\n",
        "#    trnlabfile = idtrl_f[i]\n",
        "    \n",
        "#    print(trnimgfile)\n",
        "#    print(trnlabfile)\n",
        "#    dec_x = trnimgfile\n",
        "#    dec_y = trnlabfile\n",
        "\n",
        "#    dec_x = \n",
        "#    dec_y = MNISTtorch.targets\n",
        "#   print('train imgs before reshape ',dec_x.shape) \n",
        "#   print('train labels ',dec_y.shape) \n",
        "#   print(collections.Counter(dec_y))\n",
        "#   dec_x = dec_x.reshape(dec_x.shape[0],1,28,28)   \n",
        "#   print('train imgs after reshape ',dec_x.shape) \n",
        "\n",
        "    dl_batch_size = batch_size=dataset_torch.__len__()\n",
        "    batch_size = args['batch_size']\n",
        "    num_workers = 0\n",
        "\n",
        "    #torch.Tensor returns float so if want long then use torch.tensor\n",
        " #   tensor_x = dec_x\n",
        " #   tensor_y = MNISTtorch.target\n",
        " #   mnist_bal = TensorDataset(tensor_x,tensor_y) \n",
        "    train_loader = torch.utils.data.DataLoader(dataset_torch, batch_size=batch_size,shuffle=True,num_workers=num_workers)\n",
        "    \n",
        "    ## Carregar dataset na memória\n",
        "    dl_aux = torch.utils.data.DataLoader(dataset_torch, batch_size=dl_batch_size,shuffle=True,num_workers=num_workers)\n",
        "    \n",
        "    dec_x, dec_y = next(iter(dl_aux))\n",
        "\n",
        "    del dl_aux\n",
        "\n",
        "    classes = (0, 1, 2, 3, 4, 5, 6, 7, 8, 9)\n",
        "\n",
        "    best_loss = np.inf\n",
        "\n",
        "    t0 = time.time()\n",
        "    if args['train']:\n",
        "        enc_optim = torch.optim.Adam(encoder.parameters(), lr = args['lr'])\n",
        "        dec_optim = torch.optim.Adam(decoder.parameters(), lr = args['lr'])\n",
        "    \n",
        "        for epoch in range(args['epochs']):\n",
        "            train_loss = 0.0\n",
        "            tmse_loss = 0.0\n",
        "            tdiscr_loss = 0.0\n",
        "            # train for one epoch -- set nets to train mode\n",
        "            encoder.train()\n",
        "            decoder.train()\n",
        "        \n",
        "            for images,labs in train_loader:\n",
        "            \n",
        "                # zero gradients for each batch\n",
        "                encoder.zero_grad()\n",
        "                decoder.zero_grad()\n",
        "                #print(images)\n",
        "                images, labs = images.to(device), labs.to(device)\n",
        "                #print('images ',images.size()) \n",
        "                labsn = labs.detach().cpu().numpy()\n",
        "                #print('labsn ',labsn.shape, labsn)\n",
        "            \n",
        "                # run images\n",
        "                z_hat = encoder(images)\n",
        "            \n",
        "                x_hat = decoder(z_hat) #decoder outputs tanh\n",
        "                #print('xhat ', x_hat.size())\n",
        "                #print(x_hat)\n",
        "\n",
        "                #Reconstruction Loss\n",
        "                mse = criterion(x_hat,images)\n",
        "                #print('mse ',mse)\n",
        "                \n",
        "                       \n",
        "                resx = []\n",
        "                resy = []\n",
        "\n",
        "                #Randomly sample classes            \n",
        "                tc = np.random.randint(10)\n",
        "                #tc = 9\n",
        "                #print(\"Class:\", tc)\n",
        "\n",
        "                #Randomly sample nsamp instances of that class\n",
        "                xbeg = dec_x[dec_y == tc]\n",
        "                ybeg = dec_y[dec_y == tc] \n",
        "                xlen = len(xbeg)\n",
        "                #print(\"xlen\", xlen)\n",
        "                nsamp = min(xlen, 100)\n",
        "                ind = np.random.choice(list(range(len(xbeg))),nsamp,replace=False)\n",
        "                xclass = xbeg[ind]\n",
        "                yclass = ybeg[ind]\n",
        "            \n",
        "                xclen = len(xclass)\n",
        "                #print('xclen ',xclen)\n",
        "                xcminus = np.arange(1,xclen)\n",
        "                #print('minus ',xcminus.shape,xcminus)\n",
        "                \n",
        "                xcplus = np.append(xcminus,0)\n",
        "                #print('xcplus ',xcplus)\n",
        "                xcnew = (xclass[[xcplus],:])\n",
        "                #xcnew = np.squeeze(xcnew)\n",
        "                xcnew = xcnew.reshape(xcnew.shape[1],xcnew.shape[2],xcnew.shape[3],xcnew.shape[4])\n",
        "                #print('xcnew ',xcnew.shape)\n",
        "            \n",
        "                xcnew = torch.Tensor(xcnew)\n",
        "                xcnew = xcnew.to(device)\n",
        "            \n",
        "                #Encode xclass to feature space\n",
        "                xclass = torch.Tensor(xclass)\n",
        "                xclass = xclass.to(device)\n",
        "                xclass = encoder(xclass)\n",
        "                #print('xclass ',xclass.shape) \n",
        "            \n",
        "                xclass = xclass.detach().cpu().numpy()\n",
        "            \n",
        "                xc_enc = (xclass[[xcplus],:])\n",
        "                xc_enc = np.squeeze(xc_enc)\n",
        "                #print('xc enc ',xc_enc.shape)\n",
        "            \n",
        "                xc_enc = torch.Tensor(xc_enc)\n",
        "                xc_enc = xc_enc.to(device)\n",
        "\n",
        "                #Decode\n",
        "                ximg = decoder(xc_enc)\n",
        "                \n",
        "                #Penalty Loss \n",
        "                mse2 = criterion(ximg,xcnew)\n",
        "            \n",
        "                comb_loss = mse2 + mse\n",
        "                comb_loss.backward()\n",
        "            \n",
        "                enc_optim.step()\n",
        "                dec_optim.step()\n",
        "            \n",
        "                train_loss += comb_loss.item()*images.size(0)\n",
        "                tmse_loss += mse.item()*images.size(0)\n",
        "                tdiscr_loss += mse2.item()*images.size(0)\n",
        "            \n",
        "                 \n",
        "            # print avg training statistics \n",
        "            train_loss = train_loss/len(train_loader)\n",
        "            tmse_loss = tmse_loss/len(train_loader)\n",
        "            tdiscr_loss = tdiscr_loss/len(train_loader)\n",
        "            print('Epoch: {} \\tTrain Loss: {:.6f} \\tmse loss: {:.6f} \\tmse2 loss: {:.6f}'.format(epoch,\n",
        "                    train_loss,tmse_loss,tdiscr_loss))\n",
        "            \n",
        "        \n",
        "#########################5 Way Cross Validation#################################       \n",
        "           #store the best encoder and decoder models\n",
        "            #here, /crs5 is a reference to 5 way cross validation, but is not\n",
        "            #necessary for illustration purposes\n",
        "            if train_loss < best_loss:\n",
        "                print('Saving..')\n",
        "                path_enc = dir_model+'/models/crs5/' \\\n",
        "                    + str(i) + '/bst_enc.pth'\n",
        "                path_dec = dir_model+'/models/crs5/' \\\n",
        "                    + str(i) + '/bst_dec.pth'\n",
        "             \n",
        "                torch.save(encoder.state_dict(), path_enc)\n",
        "                torch.save(decoder.state_dict(), path_dec)\n",
        "        \n",
        "                best_loss = train_loss\n",
        "################################################################################        \n",
        "        \n",
        "        #in addition, store the final model (may not be the best) for\n",
        "        #informational purposes\n",
        "        path_enc = dir_model+'/models/crs5/' \\\n",
        "            + str(i) + '/f_enc.pth'\n",
        "        path_dec = dir_model+'/models/crs5/' \\\n",
        "            + str(i) + '/f_dec.pth'\n",
        "        print(path_enc)\n",
        "        print(path_dec)\n",
        "        torch.save(encoder.state_dict(), path_enc)\n",
        "        torch.save(decoder.state_dict(), path_dec)\n",
        "        print()\n",
        "              \n",
        "    t1 = time.time()\n",
        "    print('total time(min): {:.2f}'.format((t1 - t0)/60))             \n",
        " \n",
        "t4 = time.time()\n",
        "print('final time(min): {:.2f}'.format((t4 - t3)/60))"
      ],
      "metadata": {
        "colab": {
          "base_uri": "https://localhost:8080/"
        },
        "id": "nDw9ow66lNS-",
        "outputId": "c12bd620-22a6-4438-89ee-1f62e043894d"
      },
      "execution_count": 15,
      "outputs": [
        {
          "output_type": "stream",
          "name": "stdout",
          "text": [
            "\n",
            "0\n",
            "cuda\n",
            "Epoch: 0 \tTrain Loss: 6.737602 \tmse loss: 2.987084 \tmse2 loss: 3.750518\n",
            "Saving..\n",
            "Epoch: 1 \tTrain Loss: 1.803980 \tmse loss: 0.804419 \tmse2 loss: 0.999561\n",
            "Saving..\n",
            "Epoch: 2 \tTrain Loss: 1.231781 \tmse loss: 0.555022 \tmse2 loss: 0.676759\n",
            "Saving..\n",
            "Epoch: 3 \tTrain Loss: 0.972876 \tmse loss: 0.444046 \tmse2 loss: 0.528830\n",
            "Saving..\n",
            "Epoch: 4 \tTrain Loss: 0.811640 \tmse loss: 0.371826 \tmse2 loss: 0.439814\n",
            "Saving..\n",
            "Epoch: 5 \tTrain Loss: 0.700216 \tmse loss: 0.324581 \tmse2 loss: 0.375634\n",
            "Saving..\n",
            "Epoch: 6 \tTrain Loss: 0.633188 \tmse loss: 0.294065 \tmse2 loss: 0.339123\n",
            "Saving..\n",
            "Epoch: 7 \tTrain Loss: 0.569190 \tmse loss: 0.267565 \tmse2 loss: 0.301625\n",
            "Saving..\n",
            "Epoch: 8 \tTrain Loss: 0.533405 \tmse loss: 0.250202 \tmse2 loss: 0.283204\n",
            "Saving..\n",
            "Epoch: 9 \tTrain Loss: 0.498098 \tmse loss: 0.234496 \tmse2 loss: 0.263602\n",
            "Saving..\n",
            "MNIST/models/crs5/0/f_enc.pth\n",
            "MNIST/models/crs5/0/f_dec.pth\n",
            "\n",
            "total time(min): 8.87\n",
            "final time(min): 10.72\n"
          ]
        }
      ]
    },
    {
      "cell_type": "markdown",
      "source": [
        "## Generate Samples - SMOTE/Adasyn"
      ],
      "metadata": {
        "id": "HvCKOEQ6u9WU"
      }
    },
    {
      "cell_type": "markdown",
      "source": [
        ""
      ],
      "metadata": {
        "id": "6--G0g0SNsMq"
      }
    },
    {
      "cell_type": "code",
      "source": [
        "##############################################################################\n",
        "\n",
        "def biased_get_class1(c):\n",
        "    \n",
        "    xbeg = dec_x[dec_y == c]\n",
        "    ybeg = dec_y[dec_y == c]\n",
        "    \n",
        "    return xbeg, ybeg\n",
        "    #return xclass, yclass\n",
        "'''\n",
        "\n",
        "def adasyn(X, y,  cl, m_major, m_minor, beta=1):\n",
        "  \n",
        "  Inputs:\n",
        "  X: xclasse, conjunto de dados da classe\n",
        "  y : yclasse, conjunto de labels da classe\n",
        "  cl : classe alvo\n",
        "  m_major : número de instâncias da classe majoritária\n",
        "  m_minor : número de instâncias da classe minoritária (alvo)\n",
        "  beta : parâmetros que controla quantas instâncias são geradas. Default=1\n",
        " \n",
        "  #Número de neighbors\n",
        "  K = 5\n",
        "  d= m_major/m_minor\n",
        "  #if(d>threshold) acaba aqui\n",
        "  G = (m_major-m_minor)*beta\n",
        "  # fitting the model\n",
        "\n",
        "\n",
        "  clf = neighbors.KNeighborsClassifier()\n",
        "  clf.fit(X, y)\n",
        "  Ri = []\n",
        "  Minority_per_xi = []\n",
        "  for i in range(m_minor):\n",
        "    # Returns indices of the closest neighbours, and return it as a list\n",
        "    xi = X[i, :].reshape(1, -1)\n",
        "    # Returns indices of the closest neighbours, and return it as a list\n",
        "    neighbours = clf.kneighbors(xi, n_neighbors=K, return_distance=False)[0]\n",
        "    delta=0\n",
        "    for j in range(len(neighbours)):\n",
        "      if(y[j]!=cl):\n",
        "        delta+=1\n",
        "    Ri.append(delta/K)\n",
        "    minority = []\n",
        "    for index in neighbours:\n",
        "            # Shifted back 1 because indices start at 0\n",
        "            if y[index]==cl :\n",
        "                minority.append(value)\n",
        "    Minority_per_xi.append(minority)\n",
        "  Ri_norm = []\n",
        "  for ri in Ri:\n",
        "    ri_norm = ri / sum(Ri)\n",
        "    Ri_norm.append(ri_norm)\n",
        "\n",
        "  assert (sum(Rhat_i) > 0.99)\n",
        "  Gi = []\n",
        "  for r in Ri_norm:\n",
        "    gi = round(r * G)\n",
        "    Gi.append(int(gi)) \n",
        "\n",
        "  for i in range(m_minor):\n",
        "    #gerar classes\n",
        "    neighbor_indices = np.random.choice(list(range(1, K+1)),Gi[i])\n",
        "    or j in range(Gi[i]):\n",
        "        # If the minority list is not empty\n",
        "        if Minority_per_xi[i]:\n",
        "            index = np.random.choice(Minority_per_xi[i])\n",
        "            xzi = X[index, :].reshape(1, -1)\n",
        "            si = xi + (xzi - xi) * np.random.uniform(0, 1)\n",
        "            syn_data.append(si)\n",
        "'''\n",
        "\n",
        "def G_SM1(X, y,n_to_sample,cl):\n",
        "\n",
        "    \n",
        "    # fitting the model\n",
        "    n_neigh = 5 + 1\n",
        "    knn = NearestNeighbors(n_neighbors=n_neigh, n_jobs=1)\n",
        "    knn.fit(X)\n",
        "    dist, ind = knn.kneighbors(X)\n",
        "\n",
        "    # generating samples\n",
        "    base_indices = np.random.choice(list(range(len(X))),n_to_sample)\n",
        "    neighbor_indices = np.random.choice(list(range(1, n_neigh)),n_to_sample)\n",
        "\n",
        "    X_base = X[base_indices]\n",
        "    X_neighbor = X[ind[base_indices, neighbor_indices]]\n",
        "\n",
        "    samples = X_base + np.multiply(np.random.rand(n_to_sample,1),\n",
        "            X_neighbor - X_base)\n",
        "\n",
        "    #use 10 as label because 0 to 9 real classes and 1 fake/smoted = 10\n",
        "    return samples, [cl]*n_to_sample\n",
        "\n",
        "#############################################################################\n",
        "\n"
      ],
      "metadata": {
        "id": "SAckSkq2w7OG"
      },
      "execution_count": 17,
      "outputs": []
    },
    {
      "cell_type": "code",
      "source": [
        "!mkdir MNIST/trn_img_f/"
      ],
      "metadata": {
        "id": "jhDUfIcezIuw"
      },
      "execution_count": null,
      "outputs": []
    },
    {
      "cell_type": "code",
      "source": [
        "!mkdir MNIST/trn_lab_f/"
      ],
      "metadata": {
        "id": "BGQ84x1DzgJy"
      },
      "execution_count": null,
      "outputs": []
    },
    {
      "cell_type": "code",
      "source": [
        "!ls"
      ],
      "metadata": {
        "id": "KVT9sLS1zSHS"
      },
      "execution_count": null,
      "outputs": []
    },
    {
      "cell_type": "markdown",
      "source": [
        "## Generate Samples - Main"
      ],
      "metadata": {
        "id": "u63YabLHNuXs"
      }
    },
    {
      "cell_type": "code",
      "source": [
        "np.printoptions(precision=5,suppress=True)\n",
        "#%time\n",
        "'''\n",
        "dtrnimg = '.../0_trn_img.txt'\n",
        "dtrnlab = '.../0_trn_lab.txt'\n",
        "\n",
        "ids = os.listdir(dtrnimg)\n",
        "idtri_f = [os.path.join(dtrnimg, image_id) for image_id in ids]\n",
        "print(idtri_f)\n",
        "\n",
        "ids = os.listdir(dtrnlab)\n",
        "idtrl_f = [os.path.join(dtrnlab, image_id) for image_id in ids]\n",
        "print(idtrl_f)\n",
        "'''\n",
        "#path on the computer where the models are stored\n",
        "modpth = './' +dir_model+'/models/crs5/'\n",
        "\n",
        "encf = []\n",
        "decf = []\n",
        "for p in range(5):\n",
        "    enc = modpth + '/' + str(p) + '/bst_enc.pth'\n",
        "    dec = modpth + '/' + str(p) + '/bst_dec.pth'\n",
        "    encf.append(enc)\n",
        "    decf.append(dec)\n",
        "    #print(enc)\n",
        "    #print(dec)\n",
        "    #print()\n",
        "\n",
        "for m in range(1):\n",
        "    print(m)\n",
        "    '''\n",
        "    trnimgfile = idtri_f[m]\n",
        "    trnlabfile = idtrl_f[m]\n",
        "    print(trnimgfile)\n",
        "    print(trnlabfile)\n",
        "    dec_x = np.loadtxt(trnimgfile) \n",
        "    dec_y = np.loadtxt(trnlabfile)\n",
        "\n",
        "    print('train imgs before reshape ',dec_x.shape) #(44993, 3072) 45500, 3072)\n",
        "    print('train labels ',dec_y.shape) #(44993,) (45500,)\n",
        "\n",
        "    dec_x = dec_x.reshape(dec_x.shape[0],1,28,28)\n",
        "\n",
        "    print('decy ',dec_y.shape)\n",
        "    print(collections.Counter(dec_y))\n",
        "    \n",
        "    print('train imgs after reshape ',dec_x.shape) #(45000,3,32,32)\n",
        "    '''\n",
        "    dl_batch_size = batch_size=dataset_torch.__len__()\n",
        "    batch_size = 128\n",
        "    num_workers = 0\n",
        "\n",
        "    #torch.Tensor returns float so if want long then use torch.tensor\n",
        " #   tensor_x = dec_x\n",
        " #   tensor_y = MNISTtorch.target\n",
        " #   mnist_bal = TensorDataset(tensor_x,tensor_y) \n",
        "    train_loader = torch.utils.data.DataLoader(dataset_torch, \n",
        "        batch_size=batch_size,shuffle=True,num_workers=num_workers)\n",
        "    \n",
        "    ## Carregar dataset na memória\n",
        "    dl_aux = torch.utils.data.DataLoader(dataset_torch, \n",
        "        batch_size=dl_batch_size,shuffle=True,num_workers=num_workers)\n",
        "    \n",
        "    dec_x, dec_y = next(iter(dl_aux))\n",
        "\n",
        "    del dl_aux\n",
        "\n",
        "    classes = (0, 1, 2, 3, 4, 5, 6, 7, 8, 9)\n",
        "\n",
        "    best_loss = np.inf\n",
        "\n",
        "    \n",
        "    #generate some images \n",
        "    train_on_gpu = torch.cuda.is_available()\n",
        "    device = 'cuda' if torch.cuda.is_available() else 'cpu'\n",
        "    \n",
        "    path_enc = encf[m]\n",
        "    path_dec = decf[m]\n",
        "\n",
        "    encoder = Encoder(args)\n",
        "    encoder.load_state_dict(torch.load(path_enc), strict=False)\n",
        "    encoder = encoder.to(device)\n",
        "\n",
        "    decoder = Decoder(args)\n",
        "    decoder.load_state_dict(torch.load(path_dec), strict=False)\n",
        "    decoder = decoder.to(device)\n",
        "\n",
        "    encoder.eval()\n",
        "    decoder.eval()\n",
        "\n",
        "    #imbal = [4500, 2000, 1000, 800, 600, 500, 400, 250, 150, 80]\n",
        "    if(args['dataset'] =='mnist' or args['dataset'] =='fashionmnist'):imbal = [4000, 2000, 1000, 750, 500, 350, 200, 100, 60, 40]\n",
        "\n",
        "    resx = []\n",
        "    resy = []\n",
        "    xclasses=[]\n",
        "    yclasses=[]\n",
        "    #Gerar um conjunto com todas as classes ordenadas\n",
        "    for i in range(0,10):\n",
        "      xclass, yclass = biased_get_class1(i)\n",
        "\n",
        "          \n",
        "      #encode xclass to feature space\n",
        "      xclass = torch.Tensor(xclass)\n",
        "      xclass = xclass.to(device)\n",
        "      xclass = encoder(xclass)\n",
        "\n",
        "          \n",
        "      xclass = xclass.detach().cpu().numpy()\n",
        "      xclasses.append(xclass)\n",
        "      yclasses.append(yclass)\n",
        "    \n",
        "    allClasses = np.concatenate(xclasses)\n",
        "    allY = np.concatenate(yclasses)\n",
        "\n",
        "    #Skipando a classe 1\n",
        "    for i in range(1,10):\n",
        "        xclass, yclass = xclasses[i], yclasses[i]\n",
        "        print(\"Len yclass\", len(yclass))\n",
        "        n = imbal[0] - imbal[i]\n",
        "        xsamp, ysamp = G_SM1(xclass,yclass,n,i)\n",
        "        print(len(ysamp))\n",
        "\n",
        "        ysamp = np.array(ysamp)\n",
        "\n",
        "    \n",
        "        \"\"\"to generate samples for resnet\"\"\"   \n",
        "        xsamp = torch.Tensor(xsamp)\n",
        "        xsamp = xsamp.to(device)\n",
        "        #xsamp = xsamp.view(xsamp.size()[0], xsamp.size()[1], 1, 1)\n",
        "        ximg = decoder(xsamp)\n",
        "\n",
        "        ximn = ximg.detach().cpu().numpy()\n",
        "        #ximn = np.expand_dims(ximn,axis=1)\n",
        "\n",
        "        resx.append(ximn)\n",
        "        resy.append(ysamp)\n",
        "\n",
        "    resx1 = np.vstack(resx)\n",
        "    resy1 = np.hstack(resy)\n",
        "\n",
        "    #resx1 = np.squeeze(resx1)\n",
        "\n",
        "\n",
        "    resx1 = resx1.reshape(resx1.shape[0],-1)\n",
        "\n",
        "    \n",
        "    dec_x1 = dec_x.reshape(dec_x.shape[0],-1)\n",
        "\n",
        "    combx = np.vstack((resx1,dec_x1))\n",
        "    comby = np.hstack((resy1,dec_y))\n",
        "\n",
        "\n",
        "    ifile = './'+dir_model+'/trn_img_f/' + \\\n",
        "        str(m) + '_trn_img.txt'\n",
        "    np.savetxt(ifile, combx)\n",
        "\n",
        "    \n",
        "    lfile = './'+dir_model+'/trn_lab_f/' + \\\n",
        "        str(m) + '_trn_lab.txt'\n",
        "    np.savetxt(lfile,comby) \n",
        "    print()\n",
        "\n",
        "t1 = time.time()\n",
        "print('final time(min): {:.2f}'.format((t1 - t0)/60))"
      ],
      "metadata": {
        "id": "gHibGtVs6FKh",
        "colab": {
          "base_uri": "https://localhost:8080/",
          "height": 588
        },
        "outputId": "d97cc1f9-d781-4cb5-cae4-5dfb9658bc9b"
      },
      "execution_count": 26,
      "outputs": [
        {
          "output_type": "stream",
          "name": "stdout",
          "text": [
            "0\n",
            "Len yclass 6742\n",
            "2000\n",
            "Len yclass 5958\n",
            "3000\n",
            "Len yclass 6131\n",
            "3250\n",
            "Len yclass 5842\n",
            "3500\n",
            "Len yclass 5421\n",
            "3650\n",
            "Len yclass 5918\n"
          ]
        },
        {
          "output_type": "error",
          "ename": "KeyboardInterrupt",
          "evalue": "ignored",
          "traceback": [
            "\u001b[0;31m---------------------------------------------------------------------------\u001b[0m",
            "\u001b[0;31mKeyboardInterrupt\u001b[0m                         Traceback (most recent call last)",
            "\u001b[0;32m<ipython-input-26-c62f5302f5a1>\u001b[0m in \u001b[0;36m<module>\u001b[0;34m()\u001b[0m\n\u001b[1;32m    119\u001b[0m         \u001b[0mprint\u001b[0m\u001b[0;34m(\u001b[0m\u001b[0;34m\"Len yclass\"\u001b[0m\u001b[0;34m,\u001b[0m \u001b[0mlen\u001b[0m\u001b[0;34m(\u001b[0m\u001b[0myclass\u001b[0m\u001b[0;34m)\u001b[0m\u001b[0;34m)\u001b[0m\u001b[0;34m\u001b[0m\u001b[0;34m\u001b[0m\u001b[0m\n\u001b[1;32m    120\u001b[0m         \u001b[0mn\u001b[0m \u001b[0;34m=\u001b[0m \u001b[0mimbal\u001b[0m\u001b[0;34m[\u001b[0m\u001b[0;36m0\u001b[0m\u001b[0;34m]\u001b[0m \u001b[0;34m-\u001b[0m \u001b[0mimbal\u001b[0m\u001b[0;34m[\u001b[0m\u001b[0mi\u001b[0m\u001b[0;34m]\u001b[0m\u001b[0;34m\u001b[0m\u001b[0;34m\u001b[0m\u001b[0m\n\u001b[0;32m--> 121\u001b[0;31m         \u001b[0mxsamp\u001b[0m\u001b[0;34m,\u001b[0m \u001b[0mysamp\u001b[0m \u001b[0;34m=\u001b[0m \u001b[0mG_SM1\u001b[0m\u001b[0;34m(\u001b[0m\u001b[0mxclass\u001b[0m\u001b[0;34m,\u001b[0m\u001b[0myclass\u001b[0m\u001b[0;34m,\u001b[0m\u001b[0mn\u001b[0m\u001b[0;34m,\u001b[0m\u001b[0mi\u001b[0m\u001b[0;34m)\u001b[0m\u001b[0;34m\u001b[0m\u001b[0;34m\u001b[0m\u001b[0m\n\u001b[0m\u001b[1;32m    122\u001b[0m         \u001b[0mprint\u001b[0m\u001b[0;34m(\u001b[0m\u001b[0mlen\u001b[0m\u001b[0;34m(\u001b[0m\u001b[0mysamp\u001b[0m\u001b[0;34m)\u001b[0m\u001b[0;34m)\u001b[0m\u001b[0;34m\u001b[0m\u001b[0;34m\u001b[0m\u001b[0m\n\u001b[1;32m    123\u001b[0m \u001b[0;34m\u001b[0m\u001b[0m\n",
            "\u001b[0;32m<ipython-input-17-31302d20f6e5>\u001b[0m in \u001b[0;36mG_SM1\u001b[0;34m(X, y, n_to_sample, cl)\u001b[0m\n\u001b[1;32m     78\u001b[0m     \u001b[0mknn\u001b[0m \u001b[0;34m=\u001b[0m \u001b[0mNearestNeighbors\u001b[0m\u001b[0;34m(\u001b[0m\u001b[0mn_neighbors\u001b[0m\u001b[0;34m=\u001b[0m\u001b[0mn_neigh\u001b[0m\u001b[0;34m,\u001b[0m \u001b[0mn_jobs\u001b[0m\u001b[0;34m=\u001b[0m\u001b[0;36m1\u001b[0m\u001b[0;34m)\u001b[0m\u001b[0;34m\u001b[0m\u001b[0;34m\u001b[0m\u001b[0m\n\u001b[1;32m     79\u001b[0m     \u001b[0mknn\u001b[0m\u001b[0;34m.\u001b[0m\u001b[0mfit\u001b[0m\u001b[0;34m(\u001b[0m\u001b[0mX\u001b[0m\u001b[0;34m)\u001b[0m\u001b[0;34m\u001b[0m\u001b[0;34m\u001b[0m\u001b[0m\n\u001b[0;32m---> 80\u001b[0;31m     \u001b[0mdist\u001b[0m\u001b[0;34m,\u001b[0m \u001b[0mind\u001b[0m \u001b[0;34m=\u001b[0m \u001b[0mknn\u001b[0m\u001b[0;34m.\u001b[0m\u001b[0mkneighbors\u001b[0m\u001b[0;34m(\u001b[0m\u001b[0mX\u001b[0m\u001b[0;34m)\u001b[0m\u001b[0;34m\u001b[0m\u001b[0;34m\u001b[0m\u001b[0m\n\u001b[0m\u001b[1;32m     81\u001b[0m \u001b[0;34m\u001b[0m\u001b[0m\n\u001b[1;32m     82\u001b[0m     \u001b[0;31m# generating samples\u001b[0m\u001b[0;34m\u001b[0m\u001b[0;34m\u001b[0m\u001b[0;34m\u001b[0m\u001b[0m\n",
            "\u001b[0;32m/usr/local/lib/python3.7/dist-packages/sklearn/neighbors/_base.py\u001b[0m in \u001b[0;36mkneighbors\u001b[0;34m(self, X, n_neighbors, return_distance)\u001b[0m\n\u001b[1;32m    757\u001b[0m                     \u001b[0mmetric\u001b[0m\u001b[0;34m=\u001b[0m\u001b[0mself\u001b[0m\u001b[0;34m.\u001b[0m\u001b[0meffective_metric_\u001b[0m\u001b[0;34m,\u001b[0m\u001b[0;34m\u001b[0m\u001b[0;34m\u001b[0m\u001b[0m\n\u001b[1;32m    758\u001b[0m                     \u001b[0mn_jobs\u001b[0m\u001b[0;34m=\u001b[0m\u001b[0mn_jobs\u001b[0m\u001b[0;34m,\u001b[0m\u001b[0;34m\u001b[0m\u001b[0;34m\u001b[0m\u001b[0m\n\u001b[0;32m--> 759\u001b[0;31m                     \u001b[0;34m**\u001b[0m\u001b[0mkwds\u001b[0m\u001b[0;34m,\u001b[0m\u001b[0;34m\u001b[0m\u001b[0;34m\u001b[0m\u001b[0m\n\u001b[0m\u001b[1;32m    760\u001b[0m                 )\n\u001b[1;32m    761\u001b[0m             )\n",
            "\u001b[0;32m/usr/local/lib/python3.7/dist-packages/sklearn/metrics/pairwise.py\u001b[0m in \u001b[0;36mpairwise_distances_chunked\u001b[0;34m(X, Y, reduce_func, metric, n_jobs, working_memory, **kwds)\u001b[0m\n\u001b[1;32m   1715\u001b[0m         \u001b[0;32melse\u001b[0m\u001b[0;34m:\u001b[0m\u001b[0;34m\u001b[0m\u001b[0;34m\u001b[0m\u001b[0m\n\u001b[1;32m   1716\u001b[0m             \u001b[0mX_chunk\u001b[0m \u001b[0;34m=\u001b[0m \u001b[0mX\u001b[0m\u001b[0;34m[\u001b[0m\u001b[0msl\u001b[0m\u001b[0;34m]\u001b[0m\u001b[0;34m\u001b[0m\u001b[0;34m\u001b[0m\u001b[0m\n\u001b[0;32m-> 1717\u001b[0;31m         \u001b[0mD_chunk\u001b[0m \u001b[0;34m=\u001b[0m \u001b[0mpairwise_distances\u001b[0m\u001b[0;34m(\u001b[0m\u001b[0mX_chunk\u001b[0m\u001b[0;34m,\u001b[0m \u001b[0mY\u001b[0m\u001b[0;34m,\u001b[0m \u001b[0mmetric\u001b[0m\u001b[0;34m=\u001b[0m\u001b[0mmetric\u001b[0m\u001b[0;34m,\u001b[0m \u001b[0mn_jobs\u001b[0m\u001b[0;34m=\u001b[0m\u001b[0mn_jobs\u001b[0m\u001b[0;34m,\u001b[0m \u001b[0;34m**\u001b[0m\u001b[0mkwds\u001b[0m\u001b[0;34m)\u001b[0m\u001b[0;34m\u001b[0m\u001b[0;34m\u001b[0m\u001b[0m\n\u001b[0m\u001b[1;32m   1718\u001b[0m         if (X is Y or Y is None) and PAIRWISE_DISTANCE_FUNCTIONS.get(\n\u001b[1;32m   1719\u001b[0m             \u001b[0mmetric\u001b[0m\u001b[0;34m,\u001b[0m \u001b[0;32mNone\u001b[0m\u001b[0;34m\u001b[0m\u001b[0;34m\u001b[0m\u001b[0m\n",
            "\u001b[0;32m/usr/local/lib/python3.7/dist-packages/sklearn/metrics/pairwise.py\u001b[0m in \u001b[0;36mpairwise_distances\u001b[0;34m(X, Y, metric, n_jobs, force_all_finite, **kwds)\u001b[0m\n\u001b[1;32m   1887\u001b[0m         \u001b[0mfunc\u001b[0m \u001b[0;34m=\u001b[0m \u001b[0mpartial\u001b[0m\u001b[0;34m(\u001b[0m\u001b[0mdistance\u001b[0m\u001b[0;34m.\u001b[0m\u001b[0mcdist\u001b[0m\u001b[0;34m,\u001b[0m \u001b[0mmetric\u001b[0m\u001b[0;34m=\u001b[0m\u001b[0mmetric\u001b[0m\u001b[0;34m,\u001b[0m \u001b[0;34m**\u001b[0m\u001b[0mkwds\u001b[0m\u001b[0;34m)\u001b[0m\u001b[0;34m\u001b[0m\u001b[0;34m\u001b[0m\u001b[0m\n\u001b[1;32m   1888\u001b[0m \u001b[0;34m\u001b[0m\u001b[0m\n\u001b[0;32m-> 1889\u001b[0;31m     \u001b[0;32mreturn\u001b[0m \u001b[0m_parallel_pairwise\u001b[0m\u001b[0;34m(\u001b[0m\u001b[0mX\u001b[0m\u001b[0;34m,\u001b[0m \u001b[0mY\u001b[0m\u001b[0;34m,\u001b[0m \u001b[0mfunc\u001b[0m\u001b[0;34m,\u001b[0m \u001b[0mn_jobs\u001b[0m\u001b[0;34m,\u001b[0m \u001b[0;34m**\u001b[0m\u001b[0mkwds\u001b[0m\u001b[0;34m)\u001b[0m\u001b[0;34m\u001b[0m\u001b[0;34m\u001b[0m\u001b[0m\n\u001b[0m\u001b[1;32m   1890\u001b[0m \u001b[0;34m\u001b[0m\u001b[0m\n\u001b[1;32m   1891\u001b[0m \u001b[0;34m\u001b[0m\u001b[0m\n",
            "\u001b[0;32m/usr/local/lib/python3.7/dist-packages/sklearn/metrics/pairwise.py\u001b[0m in \u001b[0;36m_parallel_pairwise\u001b[0;34m(X, Y, func, n_jobs, **kwds)\u001b[0m\n\u001b[1;32m   1428\u001b[0m \u001b[0;34m\u001b[0m\u001b[0m\n\u001b[1;32m   1429\u001b[0m     \u001b[0;32mif\u001b[0m \u001b[0meffective_n_jobs\u001b[0m\u001b[0;34m(\u001b[0m\u001b[0mn_jobs\u001b[0m\u001b[0;34m)\u001b[0m \u001b[0;34m==\u001b[0m \u001b[0;36m1\u001b[0m\u001b[0;34m:\u001b[0m\u001b[0;34m\u001b[0m\u001b[0;34m\u001b[0m\u001b[0m\n\u001b[0;32m-> 1430\u001b[0;31m         \u001b[0;32mreturn\u001b[0m \u001b[0mfunc\u001b[0m\u001b[0;34m(\u001b[0m\u001b[0mX\u001b[0m\u001b[0;34m,\u001b[0m \u001b[0mY\u001b[0m\u001b[0;34m,\u001b[0m \u001b[0;34m**\u001b[0m\u001b[0mkwds\u001b[0m\u001b[0;34m)\u001b[0m\u001b[0;34m\u001b[0m\u001b[0;34m\u001b[0m\u001b[0m\n\u001b[0m\u001b[1;32m   1431\u001b[0m \u001b[0;34m\u001b[0m\u001b[0m\n\u001b[1;32m   1432\u001b[0m     \u001b[0;31m# enforce a threading backend to prevent data communication overhead\u001b[0m\u001b[0;34m\u001b[0m\u001b[0;34m\u001b[0m\u001b[0;34m\u001b[0m\u001b[0m\n",
            "\u001b[0;32m/usr/local/lib/python3.7/dist-packages/sklearn/metrics/pairwise.py\u001b[0m in \u001b[0;36meuclidean_distances\u001b[0;34m(X, Y, Y_norm_squared, squared, X_norm_squared)\u001b[0m\n\u001b[1;32m    328\u001b[0m             )\n\u001b[1;32m    329\u001b[0m \u001b[0;34m\u001b[0m\u001b[0m\n\u001b[0;32m--> 330\u001b[0;31m     \u001b[0;32mreturn\u001b[0m \u001b[0m_euclidean_distances\u001b[0m\u001b[0;34m(\u001b[0m\u001b[0mX\u001b[0m\u001b[0;34m,\u001b[0m \u001b[0mY\u001b[0m\u001b[0;34m,\u001b[0m \u001b[0mX_norm_squared\u001b[0m\u001b[0;34m,\u001b[0m \u001b[0mY_norm_squared\u001b[0m\u001b[0;34m,\u001b[0m \u001b[0msquared\u001b[0m\u001b[0;34m)\u001b[0m\u001b[0;34m\u001b[0m\u001b[0;34m\u001b[0m\u001b[0m\n\u001b[0m\u001b[1;32m    331\u001b[0m \u001b[0;34m\u001b[0m\u001b[0m\n\u001b[1;32m    332\u001b[0m \u001b[0;34m\u001b[0m\u001b[0m\n",
            "\u001b[0;32m/usr/local/lib/python3.7/dist-packages/sklearn/metrics/pairwise.py\u001b[0m in \u001b[0;36m_euclidean_distances\u001b[0;34m(X, Y, X_norm_squared, Y_norm_squared, squared)\u001b[0m\n\u001b[1;32m    366\u001b[0m         \u001b[0;31m# To minimize precision issues with float32, we compute the distance\u001b[0m\u001b[0;34m\u001b[0m\u001b[0;34m\u001b[0m\u001b[0;34m\u001b[0m\u001b[0m\n\u001b[1;32m    367\u001b[0m         \u001b[0;31m# matrix on chunks of X and Y upcast to float64\u001b[0m\u001b[0;34m\u001b[0m\u001b[0;34m\u001b[0m\u001b[0;34m\u001b[0m\u001b[0m\n\u001b[0;32m--> 368\u001b[0;31m         \u001b[0mdistances\u001b[0m \u001b[0;34m=\u001b[0m \u001b[0m_euclidean_distances_upcast\u001b[0m\u001b[0;34m(\u001b[0m\u001b[0mX\u001b[0m\u001b[0;34m,\u001b[0m \u001b[0mXX\u001b[0m\u001b[0;34m,\u001b[0m \u001b[0mY\u001b[0m\u001b[0;34m,\u001b[0m \u001b[0mYY\u001b[0m\u001b[0;34m)\u001b[0m\u001b[0;34m\u001b[0m\u001b[0;34m\u001b[0m\u001b[0m\n\u001b[0m\u001b[1;32m    369\u001b[0m     \u001b[0;32melse\u001b[0m\u001b[0;34m:\u001b[0m\u001b[0;34m\u001b[0m\u001b[0;34m\u001b[0m\u001b[0m\n\u001b[1;32m    370\u001b[0m         \u001b[0;31m# if dtype is already float64, no need to chunk and upcast\u001b[0m\u001b[0;34m\u001b[0m\u001b[0;34m\u001b[0m\u001b[0;34m\u001b[0m\u001b[0m\n",
            "\u001b[0;32m/usr/local/lib/python3.7/dist-packages/sklearn/metrics/pairwise.py\u001b[0m in \u001b[0;36m_euclidean_distances_upcast\u001b[0;34m(X, XX, Y, YY, batch_size)\u001b[0m\n\u001b[1;32m    567\u001b[0m                 \u001b[0md\u001b[0m \u001b[0;34m+=\u001b[0m \u001b[0mYY_chunk\u001b[0m\u001b[0;34m\u001b[0m\u001b[0;34m\u001b[0m\u001b[0m\n\u001b[1;32m    568\u001b[0m \u001b[0;34m\u001b[0m\u001b[0m\n\u001b[0;32m--> 569\u001b[0;31m             \u001b[0mdistances\u001b[0m\u001b[0;34m[\u001b[0m\u001b[0mx_slice\u001b[0m\u001b[0;34m,\u001b[0m \u001b[0my_slice\u001b[0m\u001b[0;34m]\u001b[0m \u001b[0;34m=\u001b[0m \u001b[0md\u001b[0m\u001b[0;34m.\u001b[0m\u001b[0mastype\u001b[0m\u001b[0;34m(\u001b[0m\u001b[0mnp\u001b[0m\u001b[0;34m.\u001b[0m\u001b[0mfloat32\u001b[0m\u001b[0;34m,\u001b[0m \u001b[0mcopy\u001b[0m\u001b[0;34m=\u001b[0m\u001b[0;32mFalse\u001b[0m\u001b[0;34m)\u001b[0m\u001b[0;34m\u001b[0m\u001b[0;34m\u001b[0m\u001b[0m\n\u001b[0m\u001b[1;32m    570\u001b[0m \u001b[0;34m\u001b[0m\u001b[0m\n\u001b[1;32m    571\u001b[0m     \u001b[0;32mreturn\u001b[0m \u001b[0mdistances\u001b[0m\u001b[0;34m\u001b[0m\u001b[0;34m\u001b[0m\u001b[0m\n",
            "\u001b[0;31mKeyboardInterrupt\u001b[0m: "
          ]
        }
      ]
    },
    {
      "cell_type": "code",
      "source": [
        "for i in range(10):\n",
        "  print(\"Classe\", i)\n",
        "  print(comby.shape)"
      ],
      "metadata": {
        "colab": {
          "base_uri": "https://localhost:8080/"
        },
        "id": "rYtztDQV28U3",
        "outputId": "fe997f6e-f682-454f-c684-51ac9d2c13bf"
      },
      "execution_count": 24,
      "outputs": [
        {
          "output_type": "stream",
          "name": "stdout",
          "text": [
            "Classe 0\n",
            "(91000,)\n",
            "Classe 1\n",
            "(91000,)\n",
            "Classe 2\n",
            "(91000,)\n",
            "Classe 3\n",
            "(91000,)\n",
            "Classe 4\n",
            "(91000,)\n",
            "Classe 5\n",
            "(91000,)\n",
            "Classe 6\n",
            "(91000,)\n",
            "Classe 7\n",
            "(91000,)\n",
            "Classe 8\n",
            "(91000,)\n",
            "Classe 9\n",
            "(91000,)\n"
          ]
        }
      ]
    },
    {
      "cell_type": "code",
      "source": [
        "import matplotlib.pyplot as plt\n",
        "plt.imshow(combx[5000].reshape(28,28))\n",
        "print(comby[5000])"
      ],
      "metadata": {
        "colab": {
          "base_uri": "https://localhost:8080/",
          "height": 282
        },
        "id": "iVW-ZZaLyavm",
        "outputId": "bef8640e-a321-4221-afc0-75f25d98775b"
      },
      "execution_count": null,
      "outputs": [
        {
          "output_type": "stream",
          "name": "stdout",
          "text": [
            "3\n"
          ]
        },
        {
          "output_type": "display_data",
          "data": {
            "text/plain": [
              "<Figure size 432x288 with 1 Axes>"
            ],
            "image/png": "[encoded data removed]"
          },
          "metadata": {
            "needs_background": "light"
          }
        }
      ]
    },
    {
      "cell_type": "markdown",
      "source": [
        "## Resnet"
      ],
      "metadata": {
        "id": "KXsLuoCj4BlU"
      }
    },
    {
      "cell_type": "code",
      "source": [
        "import torch\n",
        "model = torch.hub.load('pytorch/vision:v0.10.0', 'resnet18', pretrained=False)\n",
        "model.eval()"
      ],
      "metadata": {
        "id": "RZZKKAm84Chj",
        "colab": {
          "base_uri": "https://localhost:8080/"
        },
        "outputId": "4c993746-43eb-4dab-da28-8a762e8f2aea"
      },
      "execution_count": null,
      "outputs": [
        {
          "output_type": "stream",
          "name": "stderr",
          "text": [
            "Downloading: \"https://github.com/pytorch/vision/archive/v0.10.0.zip\" to /root/.cache/torch/hub/v0.10.0.zip\n"
          ]
        },
        {
          "output_type": "execute_result",
          "data": {
            "text/plain": [
              "ResNet(\n",
              "  (conv1): Conv2d(3, 64, kernel_size=(7, 7), stride=(2, 2), padding=(3, 3), bias=False)\n",
              "  (bn1): BatchNorm2d(64, eps=1e-05, momentum=0.1, affine=True, track_running_stats=True)\n",
              "  (relu): ReLU(inplace=True)\n",
              "  (maxpool): MaxPool2d(kernel_size=3, stride=2, padding=1, dilation=1, ceil_mode=False)\n",
              "  (layer1): Sequential(\n",
              "    (0): BasicBlock(\n",
              "      (conv1): Conv2d(64, 64, kernel_size=(3, 3), stride=(1, 1), padding=(1, 1), bias=False)\n",
              "      (bn1): BatchNorm2d(64, eps=1e-05, momentum=0.1, affine=True, track_running_stats=True)\n",
              "      (relu): ReLU(inplace=True)\n",
              "      (conv2): Conv2d(64, 64, kernel_size=(3, 3), stride=(1, 1), padding=(1, 1), bias=False)\n",
              "      (bn2): BatchNorm2d(64, eps=1e-05, momentum=0.1, affine=True, track_running_stats=True)\n",
              "    )\n",
              "    (1): BasicBlock(\n",
              "      (conv1): Conv2d(64, 64, kernel_size=(3, 3), stride=(1, 1), padding=(1, 1), bias=False)\n",
              "      (bn1): BatchNorm2d(64, eps=1e-05, momentum=0.1, affine=True, track_running_stats=True)\n",
              "      (relu): ReLU(inplace=True)\n",
              "      (conv2): Conv2d(64, 64, kernel_size=(3, 3), stride=(1, 1), padding=(1, 1), bias=False)\n",
              "      (bn2): BatchNorm2d(64, eps=1e-05, momentum=0.1, affine=True, track_running_stats=True)\n",
              "    )\n",
              "  )\n",
              "  (layer2): Sequential(\n",
              "    (0): BasicBlock(\n",
              "      (conv1): Conv2d(64, 128, kernel_size=(3, 3), stride=(2, 2), padding=(1, 1), bias=False)\n",
              "      (bn1): BatchNorm2d(128, eps=1e-05, momentum=0.1, affine=True, track_running_stats=True)\n",
              "      (relu): ReLU(inplace=True)\n",
              "      (conv2): Conv2d(128, 128, kernel_size=(3, 3), stride=(1, 1), padding=(1, 1), bias=False)\n",
              "      (bn2): BatchNorm2d(128, eps=1e-05, momentum=0.1, affine=True, track_running_stats=True)\n",
              "      (downsample): Sequential(\n",
              "        (0): Conv2d(64, 128, kernel_size=(1, 1), stride=(2, 2), bias=False)\n",
              "        (1): BatchNorm2d(128, eps=1e-05, momentum=0.1, affine=True, track_running_stats=True)\n",
              "      )\n",
              "    )\n",
              "    (1): BasicBlock(\n",
              "      (conv1): Conv2d(128, 128, kernel_size=(3, 3), stride=(1, 1), padding=(1, 1), bias=False)\n",
              "      (bn1): BatchNorm2d(128, eps=1e-05, momentum=0.1, affine=True, track_running_stats=True)\n",
              "      (relu): ReLU(inplace=True)\n",
              "      (conv2): Conv2d(128, 128, kernel_size=(3, 3), stride=(1, 1), padding=(1, 1), bias=False)\n",
              "      (bn2): BatchNorm2d(128, eps=1e-05, momentum=0.1, affine=True, track_running_stats=True)\n",
              "    )\n",
              "  )\n",
              "  (layer3): Sequential(\n",
              "    (0): BasicBlock(\n",
              "      (conv1): Conv2d(128, 256, kernel_size=(3, 3), stride=(2, 2), padding=(1, 1), bias=False)\n",
              "      (bn1): BatchNorm2d(256, eps=1e-05, momentum=0.1, affine=True, track_running_stats=True)\n",
              "      (relu): ReLU(inplace=True)\n",
              "      (conv2): Conv2d(256, 256, kernel_size=(3, 3), stride=(1, 1), padding=(1, 1), bias=False)\n",
              "      (bn2): BatchNorm2d(256, eps=1e-05, momentum=0.1, affine=True, track_running_stats=True)\n",
              "      (downsample): Sequential(\n",
              "        (0): Conv2d(128, 256, kernel_size=(1, 1), stride=(2, 2), bias=False)\n",
              "        (1): BatchNorm2d(256, eps=1e-05, momentum=0.1, affine=True, track_running_stats=True)\n",
              "      )\n",
              "    )\n",
              "    (1): BasicBlock(\n",
              "      (conv1): Conv2d(256, 256, kernel_size=(3, 3), stride=(1, 1), padding=(1, 1), bias=False)\n",
              "      (bn1): BatchNorm2d(256, eps=1e-05, momentum=0.1, affine=True, track_running_stats=True)\n",
              "      (relu): ReLU(inplace=True)\n",
              "      (conv2): Conv2d(256, 256, kernel_size=(3, 3), stride=(1, 1), padding=(1, 1), bias=False)\n",
              "      (bn2): BatchNorm2d(256, eps=1e-05, momentum=0.1, affine=True, track_running_stats=True)\n",
              "    )\n",
              "  )\n",
              "  (layer4): Sequential(\n",
              "    (0): BasicBlock(\n",
              "      (conv1): Conv2d(256, 512, kernel_size=(3, 3), stride=(2, 2), padding=(1, 1), bias=False)\n",
              "      (bn1): BatchNorm2d(512, eps=1e-05, momentum=0.1, affine=True, track_running_stats=True)\n",
              "      (relu): ReLU(inplace=True)\n",
              "      (conv2): Conv2d(512, 512, kernel_size=(3, 3), stride=(1, 1), padding=(1, 1), bias=False)\n",
              "      (bn2): BatchNorm2d(512, eps=1e-05, momentum=0.1, affine=True, track_running_stats=True)\n",
              "      (downsample): Sequential(\n",
              "        (0): Conv2d(256, 512, kernel_size=(1, 1), stride=(2, 2), bias=False)\n",
              "        (1): BatchNorm2d(512, eps=1e-05, momentum=0.1, affine=True, track_running_stats=True)\n",
              "      )\n",
              "    )\n",
              "    (1): BasicBlock(\n",
              "      (conv1): Conv2d(512, 512, kernel_size=(3, 3), stride=(1, 1), padding=(1, 1), bias=False)\n",
              "      (bn1): BatchNorm2d(512, eps=1e-05, momentum=0.1, affine=True, track_running_stats=True)\n",
              "      (relu): ReLU(inplace=True)\n",
              "      (conv2): Conv2d(512, 512, kernel_size=(3, 3), stride=(1, 1), padding=(1, 1), bias=False)\n",
              "      (bn2): BatchNorm2d(512, eps=1e-05, momentum=0.1, affine=True, track_running_stats=True)\n",
              "    )\n",
              "  )\n",
              "  (avgpool): AdaptiveAvgPool2d(output_size=(1, 1))\n",
              "  (fc): Linear(in_features=512, out_features=1000, bias=True)\n",
              ")"
            ]
          },
          "metadata": {},
          "execution_count": 36
        }
      ]
    },
    {
      "cell_type": "code",
      "source": [
        "import torch\n",
        "import torch.nn as nn\n",
        "import torch.optim as optim\n",
        "from torch.optim import lr_scheduler\n",
        "import torch.backends.cudnn as cudnn\n",
        "import numpy as np\n",
        "import torchvision\n",
        "from torchvision import datasets, models, transforms\n",
        "import matplotlib.pyplot as plt\n",
        "import time\n",
        "import os\n",
        "import copy\n",
        "\n",
        "cudnn.benchmark = True\n",
        "#plt.ion()   # interactive mode"
      ],
      "metadata": {
        "id": "PLX2vG6l5oh7"
      },
      "execution_count": null,
      "outputs": []
    },
    {
      "cell_type": "code",
      "source": [
        "trnimgfile = '/content/'+dir_model+'/trn_img_f/0_trn_img.txt'\n",
        "trnlabfile = '/content/'+dir_model+'/trn_lab_f/0_trn_lab.txt'\n",
        "\n",
        "dec_x = np.loadtxt(trnimgfile) \n",
        "dec_y = np.loadtxt(trnlabfile)\n",
        "\n",
        "print('train imgs before reshape ',dec_x.shape) \n",
        "print('train labels ',dec_y.shape) \n",
        "print(collections.Counter(dec_y))\n",
        "dec_x = dec_x.reshape(dec_x.shape[0],1,28,28) \n",
        "print('train imgs after reshape ',dec_x.shape) \n",
        "\n",
        "tensor_x = torch.Tensor(dec_x)\n",
        "tensor_y = torch.tensor(dec_y,dtype=torch.long)\n",
        "dataset_bal = TensorDataset(tensor_x,tensor_y) \n",
        "train_loader = torch.utils.data.DataLoader(dataset_bal, batch_size=batch_size,shuffle=True,num_workers=num_workers)"
      ],
      "metadata": {
        "colab": {
          "base_uri": "https://localhost:8080/"
        },
        "id": "SeNc85Mk8Iap",
        "outputId": "0525f708-32fa-4c00-ac05-7cadf7ab14e4"
      },
      "execution_count": null,
      "outputs": [
        {
          "output_type": "stream",
          "name": "stdout",
          "text": [
            "train imgs before reshape  (91000, 784)\n",
            "train labels  (91000,)\n",
            "Counter({9.0: 9960, 8.0: 9940, 7.0: 9900, 6.0: 9800, 5.0: 9650, 4.0: 9500, 3.0: 9250, 2.0: 9000, 1.0: 8000, 0.0: 6000})\n",
            "train imgs after reshape  (91000, 1, 28, 28)\n"
          ]
        }
      ]
    },
    {
      "cell_type": "code",
      "source": [
        "import torch\n",
        "import torch.nn as nn\n",
        "import torch.nn.functional as F\n",
        "import torchvision\n",
        "import torchvision.transforms as transforms"
      ],
      "metadata": {
        "id": "7GOr7ieUX62o"
      },
      "execution_count": null,
      "outputs": []
    },
    {
      "cell_type": "code",
      "source": [
        "print(torch.__version__)"
      ],
      "metadata": {
        "colab": {
          "base_uri": "https://localhost:8080/"
        },
        "id": "hJPjUHn8YBpo",
        "outputId": "92a5ee6a-4270-4269-dea5-f198f8428435"
      },
      "execution_count": null,
      "outputs": [
        {
          "output_type": "stream",
          "name": "stdout",
          "text": [
            "1.11.0+cu113\n"
          ]
        }
      ]
    },
    {
      "cell_type": "code",
      "source": [
        "BATCH_SIZE = 32\n",
        "\n",
        "## transformations\n",
        "transform = transforms.Compose(\n",
        "    [transforms.ToTensor()])\n",
        "\n",
        "## download and load training dataset\n",
        "if(chosen_dataset == 'mnist'):\n",
        "  trainset = torchvision.datasets.MNIST(root='./data', train=True,download=True, transform=transform)\n",
        "  testset = torchvision.datasets.MNIST(root='./data', train=False, download=True, transform=transform)\n",
        "\n",
        "if(chosen_dataset == 'fashionmnist'):\n",
        "  trainset = torchvision.datasets.FashionMNIST(root='./data', train=True,download=True, transform=transform)\n",
        "  testset = torchvision.datasets.FashionMNIST(root='./data', train=False, download=True, transform=transform)\n",
        "\n",
        "trainloader = train_loader#torch.utils.data.DataLoader(trainset, batch_size=BATCH_SIZE,shuffle=True, num_workers=2)\n",
        "\n",
        "## download and load testing dataset\n",
        "\n",
        "testloader = torch.utils.data.DataLoader(testset, batch_size=BATCH_SIZE, shuffle=False, num_workers=2)"
      ],
      "metadata": {
        "id": "VAQkDOlTYM6w"
      },
      "execution_count": null,
      "outputs": []
    },
    {
      "cell_type": "code",
      "source": [
        "import matplotlib.pyplot as plt\n",
        "import numpy as np\n",
        "\n",
        "## functions to show an image\n",
        "def imshow(img):\n",
        "    #img = img / 2 + 0.5     # unnormalize\n",
        "    npimg = img.numpy()\n",
        "    plt.imshow(np.transpose(npimg, (1, 2, 0)))\n",
        "\n",
        "## get some random training images\n",
        "dataiter = iter(trainloader)\n",
        "images, labels = dataiter.next()\n",
        "\n",
        "## show images\n",
        "imshow(torchvision.utils.make_grid(images))"
      ],
      "metadata": {
        "colab": {
          "base_uri": "https://localhost:8080/",
          "height": 286
        },
        "id": "ShGxnjH0YPQY",
        "outputId": "be62a338-6ee5-41c7-e4eb-2e2e22ce2d8c"
      },
      "execution_count": null,
      "outputs": [
        {
          "output_type": "stream",
          "name": "stderr",
          "text": [
            "Clipping input data to the valid range for imshow with RGB data ([0..1] for floats or [0..255] for integers).\n"
          ]
        },
        {
          "output_type": "display_data",
          "data": {
            "text/plain": [
              "<Figure size 432x288 with 1 Axes>"
            ],
            "image/png": "[encoded data removed]"
          },
          "metadata": {
            "needs_background": "light"
          }
        }
      ]
    },
    {
      "cell_type": "code",
      "source": [
        "for images, labels in trainloader:\n",
        "    print(\"Image batch dimensions:\", images.shape)\n",
        "    print(\"Image label dimensions:\", labels.shape)\n",
        "    break"
      ],
      "metadata": {
        "colab": {
          "base_uri": "https://localhost:8080/"
        },
        "id": "LjF7ZfWuYUmg",
        "outputId": "16e31397-4361-4b78-f4c3-20ddc6081245"
      },
      "execution_count": null,
      "outputs": [
        {
          "output_type": "stream",
          "name": "stdout",
          "text": [
            "Image batch dimensions: torch.Size([128, 1, 28, 28])\n",
            "Image label dimensions: torch.Size([128])\n"
          ]
        }
      ]
    },
    {
      "cell_type": "code",
      "source": [
        "class MyModel(nn.Module):\n",
        "    def __init__(self):\n",
        "        super(MyModel, self).__init__()\n",
        "\n",
        "        # 28x28x1 => 26x26x32\n",
        "        self.conv1 = nn.Conv2d(in_channels=1, out_channels=32, kernel_size=3)\n",
        "        self.d1 = nn.Linear(26 * 26 * 32, 128)\n",
        "        self.d2 = nn.Linear(128, 10)\n",
        "\n",
        "    def forward(self, x):\n",
        "        # 32x1x28x28 => 32x32x26x26\n",
        "        x = self.conv1(x)\n",
        "        x = F.relu(x)\n",
        "\n",
        "        # flatten => 32 x (32*26*26)\n",
        "        x = x.flatten(start_dim = 1)\n",
        "\n",
        "        # 32 x (32*26*26) => 32x128\n",
        "        x = self.d1(x)\n",
        "        x = F.relu(x)\n",
        "\n",
        "        # logits => 32x10\n",
        "        logits = self.d2(x)\n",
        "        out = F.softmax(logits, dim=1)\n",
        "        return out"
      ],
      "metadata": {
        "id": "AzUDV7cQYdIh"
      },
      "execution_count": null,
      "outputs": []
    },
    {
      "cell_type": "code",
      "source": [
        "## test the model with 1 batch\n",
        "model = MyModel()\n",
        "for images, labels in trainloader:\n",
        "    print(\"batch size:\", images.shape)\n",
        "    out = model(images)\n",
        "    print(out.shape)\n",
        "    break"
      ],
      "metadata": {
        "colab": {
          "base_uri": "https://localhost:8080/"
        },
        "id": "s8jkt7xzYtX3",
        "outputId": "bb2f4a3d-aaca-4595-dde8-50b60abb2c83"
      },
      "execution_count": null,
      "outputs": [
        {
          "output_type": "stream",
          "name": "stdout",
          "text": [
            "batch size: torch.Size([128, 1, 28, 28])\n",
            "torch.Size([128, 10])\n"
          ]
        }
      ]
    },
    {
      "cell_type": "code",
      "source": [
        "learning_rate = 0.001\n",
        "num_epochs = 5\n",
        "\n",
        "device = torch.device(\"cuda:0\" if torch.cuda.is_available() else \"cpu\")\n",
        "model = MyModel()\n",
        "model = model.to(device)\n",
        "criterion = nn.CrossEntropyLoss()\n",
        "optimizer = torch.optim.Adam(model.parameters(), lr=learning_rate)"
      ],
      "metadata": {
        "id": "TCJFCgjuY-YA"
      },
      "execution_count": null,
      "outputs": []
    },
    {
      "cell_type": "code",
      "source": [
        "## compute accuracy\n",
        "def get_accuracy(logit, target, batch_size):\n",
        "    ''' Obtain accuracy for training round '''\n",
        "    corrects = (torch.max(logit, 1)[1].view(target.size()).data == target.data).sum()\n",
        "    accuracy = 100.0 * corrects/batch_size\n",
        "    return accuracy.item()"
      ],
      "metadata": {
        "id": "nLSGLc7KZAbg"
      },
      "execution_count": null,
      "outputs": []
    },
    {
      "cell_type": "code",
      "source": [
        "#%%time\n",
        "for epoch in range(num_epochs):\n",
        "    train_running_loss = 0.0\n",
        "    train_acc = 0.0\n",
        "\n",
        "    model = model.train()\n",
        "\n",
        "    ## training step\n",
        "    for i, (images, labels) in enumerate(trainloader):\n",
        "        \n",
        "        images = images.to(device)\n",
        "        labels = labels.to(device)\n",
        "\n",
        "        ## forward + backprop + loss\n",
        "        logits = model(images)\n",
        "        loss = criterion(logits, labels)\n",
        "        optimizer.zero_grad()\n",
        "        loss.backward()\n",
        "\n",
        "        ## update model params\n",
        "        optimizer.step()\n",
        "\n",
        "        train_running_loss += loss.detach().item()\n",
        "        train_acc += get_accuracy(logits, labels, batch_size)\n",
        "        #print( get_accuracy(logits, labels, batch_size))\n",
        "    \n",
        "    model.eval()\n",
        "    print('Epoch: %d | Loss: %.4f | Train Accuracy: %.2f' \\\n",
        "          %(epoch, train_running_loss / i, train_acc/i)) "
      ],
      "metadata": {
        "colab": {
          "base_uri": "https://localhost:8080/"
        },
        "id": "Xv-o5EZWZF_4",
        "outputId": "526c3542-e274-40fe-b43a-9e5ff8fa889d"
      },
      "execution_count": null,
      "outputs": [
        {
          "output_type": "stream",
          "name": "stdout",
          "text": [
            "Epoch: 0 | Loss: 1.5023 | Train Accuracy: 96.31\n",
            "Epoch: 1 | Loss: 1.5007 | Train Accuracy: 96.46\n",
            "Epoch: 2 | Loss: 1.4982 | Train Accuracy: 96.73\n",
            "Epoch: 3 | Loss: 1.4964 | Train Accuracy: 96.86\n",
            "Epoch: 4 | Loss: 1.4966 | Train Accuracy: 96.87\n"
          ]
        }
      ]
    },
    {
      "cell_type": "markdown",
      "source": [
        "## Avaliação e Métricas"
      ],
      "metadata": {
        "id": "99anURkY1Ln3"
      }
    },
    {
      "cell_type": "code",
      "source": [
        "test_acc = 0.0\n",
        "for i, (images, labels) in enumerate(testloader, 0):\n",
        "    images = images.to(device)\n",
        "    labels = labels.to(device)\n",
        "    outputs = model(images)\n",
        "    test_acc += get_accuracy(outputs, labels, BATCH_SIZE)\n",
        "        \n",
        "print('Test Accuracy: %.2f'%( test_acc/i))"
      ],
      "metadata": {
        "colab": {
          "base_uri": "https://localhost:8080/"
        },
        "id": "tg7xofCWZetS",
        "outputId": "146be601-f12c-4f89-db98-fdda7d8d0804"
      },
      "execution_count": null,
      "outputs": [
        {
          "output_type": "stream",
          "name": "stdout",
          "text": [
            "Test Accuracy: 90.81\n"
          ]
        }
      ]
    },
    {
      "cell_type": "code",
      "source": [
        ""
      ],
      "metadata": {
        "id": "c2S_mUiPQqEA"
      },
      "execution_count": null,
      "outputs": []
    }
  ]
}